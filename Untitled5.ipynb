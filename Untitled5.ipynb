{
  "nbformat": 4,
  "nbformat_minor": 0,
  "metadata": {
    "colab": {
      "provenance": [],
      "authorship_tag": "ABX9TyOfD58EMfbJ+/KtRl/gKXqP",
      "include_colab_link": true
    },
    "kernelspec": {
      "name": "python3",
      "display_name": "Python 3"
    },
    "language_info": {
      "name": "python"
    }
  },
  "cells": [
    {
      "cell_type": "markdown",
      "metadata": {
        "id": "view-in-github",
        "colab_type": "text"
      },
      "source": [
        "<a href=\"https://colab.research.google.com/github/seoryeongwi/BP_05_Ch3/blob/main/Untitled5.ipynb\" target=\"_parent\"><img src=\"https://colab.research.google.com/assets/colab-badge.svg\" alt=\"Open In Colab\"/></a>"
      ]
    },
    {
      "cell_type": "markdown",
      "source": [
        "1. 사용자로부터 두 개의 정수를 받아서 정수의 합, 정수의 차, 정수의 곱, 정수의 평균, 큰 수, 작은 수를 계산하여 화면에 출력하는 프로그램을 작성하라. 파이썬이 제공하는 내장 함수 max(x,y), min(x,y)을 사용해보자."
      ],
      "metadata": {
        "id": "FabGdsISfCnU"
      }
    },
    {
      "cell_type": "code",
      "source": [
        "x=int(input(\"x의 값은 ?:\"))\n",
        "y=int(input(\"y의 값은 ?:\"))\n",
        "print(\"두 수의 합은 :\",x+y)\n",
        "print(\"두 수의 차는 :\",x-y)\n",
        "print(\"두 수의 곱은 :\",x*y)\n",
        "print(\"두 수의 평균은:\",(x+y)/2)\n",
        "print(\"큰 수는?:\",max(x,y))\n",
        "print(\"작은 수는?:\",min(x,y))\n"
      ],
      "metadata": {
        "colab": {
          "base_uri": "https://localhost:8080/"
        },
        "id": "rCUdicNgfJcK",
        "outputId": "e9817872-9845-4a14-d489-7f2064eae4c7"
      },
      "execution_count": 1,
      "outputs": [
        {
          "output_type": "stream",
          "name": "stdout",
          "text": [
            "x의 값은 ?:10\n",
            "y의 값은 ?:20\n",
            "두 수의 합은 : 30\n",
            "두 수의 차는 : -10\n",
            "두 수의 곱은 : 200\n",
            "두 수의 평균은: 15.0\n",
            "큰 수는?: 20\n",
            "작은 수는?: 10\n"
          ]
        }
      ]
    },
    {
      "cell_type": "markdown",
      "source": [
        "2. 원기둥의 부피를 계산하는 프로그램을 작성해보자. 원기둥의 부피는 다음과 같이 계산한다."
      ],
      "metadata": {
        "id": "KhWXGx2bgbLU"
      }
    },
    {
      "cell_type": "code",
      "source": [
        "r=float(input(\"r의 값은?:\"))\n",
        "h=float(input(\"h의 값은?:\"))\n",
        "vol=3.141592*r**2*h\n",
        "print(\"원기둥의 부피:\",vol)"
      ],
      "metadata": {
        "colab": {
          "base_uri": "https://localhost:8080/"
        },
        "id": "b-EOzd_sgffm",
        "outputId": "833404d5-91a4-4b25-b821-2a958b6133aa"
      },
      "execution_count": 2,
      "outputs": [
        {
          "output_type": "stream",
          "name": "stdout",
          "text": [
            "r의 값은?:10\n",
            "h의 값은?:100\n",
            "원기둥의 부피: 31415.92\n"
          ]
        }
      ]
    },
    {
      "cell_type": "markdown",
      "source": [
        "3. 사용자로부터 정수를 받아서 네 정수의 자리 수의 합을 계산하는 프로그램을 작성하여보자. 예를 들어서 사용자가 1234를 입력하였다면 1+2+3+4fmf 계산하면 된다. 나머지 연산자와 정수 나눗셈 연산자 //를 적극적으로 사용해보자. (단, 자리수는 number%10으로 계산할 수 있다. 10의 자리 수는 number=number//10을 한 후에 동일한 처리를 되풀이 한다. 단 반복문은 사용하지 않는다.)"
      ],
      "metadata": {
        "id": "08G-0Gubg9FK"
      }
    },
    {
      "cell_type": "code",
      "source": [
        "number=int(input(\"정수를 입력하시오.\"))\n",
        "sum = 0\n",
        "sum= sum+number%10\n",
        "number=number//10\n",
        "sum=sum+number%10\n",
        "number=number//10\n",
        "sum=sum+number%10\n",
        "number=number//10\n",
        "sum=sum+number%10\n",
        "number=number//10\n",
        "print(\"자리 수의 합은?:\",str(sum))\n"
      ],
      "metadata": {
        "colab": {
          "base_uri": "https://localhost:8080/"
        },
        "id": "otPibXMOhA-V",
        "outputId": "f707bb0b-bda6-42d3-fb53-856b94d5ca03"
      },
      "execution_count": 3,
      "outputs": [
        {
          "output_type": "stream",
          "name": "stdout",
          "text": [
            "정수를 입력하시오.1234\n",
            "자리 수의 합은?: 10\n"
          ]
        }
      ]
    },
    {
      "cell_type": "markdown",
      "source": [
        "4. 사용자로부터 두 점의 좌표 (x1,y1)과 (x2,y2)를 입력받아서 두 점 사이의 거리를 계산하는 프로그램을 작성해보자. 스크립트 모드로 작성하라. 거리는 다음 식으로 계산한다."
      ],
      "metadata": {
        "id": "aCrzZIsviH_w"
      }
    },
    {
      "cell_type": "code",
      "source": [
        "x1=int(input(\"x1의 값을 입력하시오.:\"))\n",
        "x2=int(input(\"y1의 값을 입력하시오.:\"))\n",
        "y1=int(input(\"x2의 값을 입력하시오.:\"))\n",
        "y2=int(input(\"y2의 값을 입력하시오.:\"))\n",
        "dist=((x2-x1)**2+(y2-y1)**2)**0.5\n",
        "print(\"두 점 사이의 거리는?:\",dist,\"입니다.\")"
      ],
      "metadata": {
        "colab": {
          "base_uri": "https://localhost:8080/"
        },
        "id": "f2PNKBhBiLu6",
        "outputId": "39feccb9-9ec2-4cc3-ebe4-f1d27077eaf6"
      },
      "execution_count": 4,
      "outputs": [
        {
          "output_type": "stream",
          "name": "stdout",
          "text": [
            "x1의 값을 입력하시오.:0\n",
            "y1의 값을 입력하시오.:0\n",
            "x2의 값을 입력하시오.:100\n",
            "y2의 값을 입력하시오.:100\n",
            "두 점 사이의 거리는?: 0.0 입니다.\n"
          ]
        }
      ]
    },
    {
      "cell_type": "markdown",
      "source": [
        "\n",
        "5. 4번 문제에서 계산한 거리가 맞는지, 터틀그래픽으로 확인해보자. 거북이를 왼쪽으로 45도 회전하여 141만큼 전진시킨다. 다시 거북이를 (0,0)으로 이동하고 0도를 가리키게 한 후에 100만큼 전진하고 왼쪽으로 90도 회전하여 100만큼 전진한다. 화면에 그려진 직선이 일치하는가? (거북이의 방향을 설정하려면 setheading()을 사용하는 것이 편리하다. 예를 들어서 0도를 가리키게 하려면 setheading(0)이 된다.)"
      ],
      "metadata": {
        "id": "6kW1GRAjjOQ1"
      }
    },
    {
      "cell_type": "code",
      "source": [
        "import turtle\n",
        ">>> t=turtle.Turtle()\n",
        ">>> t.shape(\"turtle\")\n",
        ">>> t.left(45)\n",
        ">>> t.forward(141)\n",
        ">>> t.setheading(0)\n",
        ">>> t.goto(0,0)\n",
        ">>> t.forward(100)\n",
        ">>> t.left(90)\n",
        ">>> t.forward(100)"
      ],
      "metadata": {
        "id": "Kz9HpnARjZ5q"
      },
      "execution_count": null,
      "outputs": []
    },
    {
      "cell_type": "markdown",
      "source": [
        "6. 사용자로부터 두 점을 입력받아서 터틀그래픽을 이용하여 두 점을 연결하는 직선을 그린다. 직선의 끝점에 직선의 길이를 계산하여 출력해보자.(goto(x1,y1)으로 첫 번째 점으로 이동, goto(x2,y2)로 두 번째 점으로 이동하면 된다.)"
      ],
      "metadata": {
        "id": "LVfcuRW3jf8-"
      }
    },
    {
      "cell_type": "code",
      "source": [
        ">>> import turtle\n",
        ">>> t=turtle.Turtle()\n",
        ">>> t.shape(\"turtle\")\n",
        ">>> x1=int(input(\"x1: \"))\n",
        "x1: 0\n",
        ">>> y1=int(input(\"y1: \"))\n",
        "y1: 0\n",
        ">>> x2=int(input(\"x2: \"))\n",
        "x2: 100\n",
        ">>> y2=int(input(\"y2: \"))\n",
        "y2: 100\n",
        ">>> dist=((x1-x2)**2+(y1+y2)**2)**0.5\n",
        ">>> t.up()\n",
        ">>> t.goto(x1,y1)\n",
        ">>> t.down()\n",
        ">>> t.goto(x2,y2)\n",
        ">>> t.write(\"점의 길이=\"+str(dist))"
      ],
      "metadata": {
        "id": "PK-CIEH-jjH_"
      },
      "execution_count": null,
      "outputs": []
    },
    {
      "cell_type": "markdown",
      "source": [
        "7. 파이썬에서 time()을 호출하면 1970년 1월 1일 이후 흘러온 전체 초가 반환된다. 이것을 적절하게 나누거나 나머지를 구해서 현재 시간의 시와 분을 계산할 수 있을까? (전체 초를 60으로 나누어서 몫을 구하면 전체 분이 된다. 이것을 60으로 나눈 마너지가 현재 분이 된다.)"
      ],
      "metadata": {
        "id": "AyroOJ_HjpiX"
      }
    },
    {
      "cell_type": "markdown",
      "source": [
        "8. 움직이는 물체의 운동에너지를 계산해보자. 물체의 에너지를 계산하는 식은 1/2*무게*속도*2이다.(지수 연산자 **를 사용해보자)\n"
      ],
      "metadata": {
        "id": "Oo4W4hzEj3Yi"
      }
    }
  ]
}